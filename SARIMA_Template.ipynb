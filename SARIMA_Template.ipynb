{
    "cells": [
        {
            "cell_type": "markdown",
            "metadata": {},
            "source": [
                "# Proyecto SARIMA - Análisis de Serie de Tiempo\n",
                "\n",
                "Este notebook tiene como objetivo realizar el análisis y modelado de una serie de tiempo utilizando un modelo **SARIMA**.\n",
                "Las secciones están predefinidas para facilitar el trabajo colaborativo durante el examen.\n",
                "---"
            ]
        },
        {
            "cell_type": "markdown",
            "metadata": {},
            "source": [
                "## 1. Importación de librerías\n",
                "En esta sección se importarán todas las librerías necesarias para el proyecto."
            ]
        },
        {
            "cell_type": "code",
            "execution_count": 1,
            "id": "1ecd38b8",
            "metadata": {},
            "outputs": [],
            "source": [
                "# Ejemplo de importaciones\n",
                "import requests\n",
                "import plotly.express as px\n",
                "import os\n",
                "import pandas as pd\n",
                "import numpy as np\n",
                "import matplotlib.pyplot as plt\n",
                "import seaborn as sns\n",
                "from statsmodels.tsa.stattools import adfuller, kpss\n",
                "from statsmodels.tsa.statespace.sarimax import SARIMAX\n",
                "import warnings\n",
                "warnings.filterwarnings('ignore')"
            ]
        },
        {
            "cell_type": "markdown",
            "id": "06548227",
            "metadata": {},
            "source": [
                "## 2. Descarga y carga de la serie de tiempo\n",
                "En esta sección se descargará la serie de tiempo desde la fuente correspondiente y se visualizará su estructura inicial."
            ]
        },
        {
            "cell_type": "markdown",
            "id": "d0b96502",
            "metadata": {},
            "source": [
                "Get from API"
            ]
        },
        {
            "cell_type": "code",
            "execution_count": 2,
            "id": "9347a32d",
            "metadata": {},
            "outputs": [
                {
                    "data": {
                        "text/plain": [
                            "'\\n# Leer el token desde el archivo .secrets\\nwith open(\".secrets\", \"r\") as f:\\n    token = f.read().strip()\\n\\n'"
                        ]
                    },
                    "execution_count": 2,
                    "metadata": {},
                    "output_type": "execute_result"
                }
            ],
            "source": [
                "'''\n",
                "# Leer el token desde el archivo .secrets\n",
                "with open(\".secrets\", \"r\") as f:\n",
                "    token = f.read().strip()\n",
                "\n",
                "'''"
            ]
        },
        {
            "cell_type": "code",
            "execution_count": 3,
            "id": "603cd473",
            "metadata": {},
            "outputs": [
                {
                    "data": {
                        "text/plain": [
                            "'\\n\\n# Endpoint para la serie SF43718 (Tipo de cambio FIX)\\nurl = \"https://www.banxico.org.mx/SieAPIRest/service/v1/series/SF43718/datos\"\\n\\n# Encabezados con el token\\nheaders = {\\n    \"Bmx-Token\": token\\n}\\n\\n# Hacemos la petición\\nresponse = requests.get(url, headers=headers)\\n\\nif response.status_code == 200:\\n    data = response.json()\\n    serie = data[\"bmx\"][\"series\"][0][\"datos\"]\\n\\n    # Convertir a DataFrame\\n    df = pd.DataFrame(serie)\\n    df.rename(columns={\"fecha\": \"Fecha\", \"dato\": \"TipoCambio\"}, inplace=True)\\n\\n    # Convertir columnas\\n    df[\"Fecha\"] = pd.to_datetime(df[\"Fecha\"], format=\"%d/%m/%Y\")\\n    df[\"TipoCambio\"] = pd.to_numeric(df[\"TipoCambio\"], errors=\"coerce\")\\n\\n    # Crear carpeta data si no existe\\n    os.makedirs(\"data\", exist_ok=True)\\n\\n    # Guardar en CSV\\n    csv_path = \"data/tipo_cambio_fix.csv\"\\n    df.to_csv(csv_path, index=False, encoding=\"utf-8-sig\")\\n    print(f\"Datos guardados en {csv_path}\")\\n\\n    # Graficar con Plotly\\n    fig = px.line(df, x=\"Fecha\", y=\"TipoCambio\",\\n                  title=\"Tipo de cambio FIX (Peso/Dólar) - Banxico\",\\n                  labels={\"TipoCambio\": \"Pesos por USD\"})\\n    fig.show()\\n\\nelse:\\n    print(\"Error en la consulta:\", response.status_code, response.text)\\n\\n'"
                        ]
                    },
                    "execution_count": 3,
                    "metadata": {},
                    "output_type": "execute_result"
                }
            ],
            "source": [
                "'''\n",
                "\n",
                "# Endpoint para la serie SF43718 (Tipo de cambio FIX)\n",
                "url = \"https://www.banxico.org.mx/SieAPIRest/service/v1/series/SF43718/datos\"\n",
                "\n",
                "# Encabezados con el token\n",
                "headers = {\n",
                "    \"Bmx-Token\": token\n",
                "}\n",
                "\n",
                "# Hacemos la petición\n",
                "response = requests.get(url, headers=headers)\n",
                "\n",
                "if response.status_code == 200:\n",
                "    data = response.json()\n",
                "    serie = data[\"bmx\"][\"series\"][0][\"datos\"]\n",
                "\n",
                "    # Convertir a DataFrame\n",
                "    df = pd.DataFrame(serie)\n",
                "    df.rename(columns={\"fecha\": \"Fecha\", \"dato\": \"TipoCambio\"}, inplace=True)\n",
                "\n",
                "    # Convertir columnas\n",
                "    df[\"Fecha\"] = pd.to_datetime(df[\"Fecha\"], format=\"%d/%m/%Y\")\n",
                "    df[\"TipoCambio\"] = pd.to_numeric(df[\"TipoCambio\"], errors=\"coerce\")\n",
                "\n",
                "    # Crear carpeta data si no existe\n",
                "    os.makedirs(\"data\", exist_ok=True)\n",
                "\n",
                "    # Guardar en CSV\n",
                "    csv_path = \"data/tipo_cambio_fix.csv\"\n",
                "    df.to_csv(csv_path, index=False, encoding=\"utf-8-sig\")\n",
                "    print(f\"Datos guardados en {csv_path}\")\n",
                "\n",
                "    # Graficar con Plotly\n",
                "    fig = px.line(df, x=\"Fecha\", y=\"TipoCambio\",\n",
                "                  title=\"Tipo de cambio FIX (Peso/Dólar) - Banxico\",\n",
                "                  labels={\"TipoCambio\": \"Pesos por USD\"})\n",
                "    fig.show()\n",
                "\n",
                "else:\n",
                "    print(\"Error en la consulta:\", response.status_code, response.text)\n",
                "\n",
                "'''"
            ]
        },
        {
            "cell_type": "code",
            "execution_count": 5,
            "id": "00026084",
            "metadata": {},
            "outputs": [
                {
                    "data": {
                        "text/html": [
                            "<div>\n",
                            "<style scoped>\n",
                            "    .dataframe tbody tr th:only-of-type {\n",
                            "        vertical-align: middle;\n",
                            "    }\n",
                            "\n",
                            "    .dataframe tbody tr th {\n",
                            "        vertical-align: top;\n",
                            "    }\n",
                            "\n",
                            "    .dataframe thead th {\n",
                            "        text-align: right;\n",
                            "    }\n",
                            "</style>\n",
                            "<table border=\"1\" class=\"dataframe\">\n",
                            "  <thead>\n",
                            "    <tr style=\"text-align: right;\">\n",
                            "      <th></th>\n",
                            "      <th>TipoCambio</th>\n",
                            "    </tr>\n",
                            "    <tr>\n",
                            "      <th>Fecha</th>\n",
                            "      <th></th>\n",
                            "    </tr>\n",
                            "  </thead>\n",
                            "  <tbody>\n",
                            "    <tr>\n",
                            "      <th>1991-11-12</th>\n",
                            "      <td>3.0735</td>\n",
                            "    </tr>\n",
                            "    <tr>\n",
                            "      <th>1991-11-13</th>\n",
                            "      <td>3.0712</td>\n",
                            "    </tr>\n",
                            "    <tr>\n",
                            "      <th>1991-11-14</th>\n",
                            "      <td>3.0718</td>\n",
                            "    </tr>\n",
                            "    <tr>\n",
                            "      <th>1991-11-15</th>\n",
                            "      <td>3.0684</td>\n",
                            "    </tr>\n",
                            "    <tr>\n",
                            "      <th>1991-11-18</th>\n",
                            "      <td>3.0673</td>\n",
                            "    </tr>\n",
                            "  </tbody>\n",
                            "</table>\n",
                            "</div>"
                        ],
                        "text/plain": [
                            "            TipoCambio\n",
                            "Fecha                 \n",
                            "1991-11-12      3.0735\n",
                            "1991-11-13      3.0712\n",
                            "1991-11-14      3.0718\n",
                            "1991-11-15      3.0684\n",
                            "1991-11-18      3.0673"
                        ]
                    },
                    "execution_count": 5,
                    "metadata": {},
                    "output_type": "execute_result"
                }
            ],
            "source": [
                "df = pd.read_csv(r'data\\tipo_cambio_fix.csv')\n",
                "df.set_index('Fecha', inplace=True)\n",
                "df.head()"
            ]
        },
        {
            "cell_type": "markdown",
            "id": "8eab8b2c",
            "metadata": {},
            "source": [
                "## 3. Pruebas de estacionariedad\n",
                "Esta sección incluye funciones para verificar si la serie es estacionaria.\n",
                "\n",
                "**Pruebas incluidas:**\n",
                "- Prueba ADF (Augmented Dickey-Fuller)\n",
                "- Prueba KPSS (Kwiatkowski–Phillips–Schmidt–Shin)\n",
                "\n",
                "La función devolverá un diagnóstico con base en los valores p."
            ]
        },
        {
            "cell_type": "code",
            "execution_count": 6,
            "id": "d7d6cd8a",
            "metadata": {},
            "outputs": [],
            "source": [
                "def adf_test(series):\n",
                "    result = adfuller(series)\n",
                "    p_value = result[1]\n",
                "    print(f\"ADF Statistic: {result[0]:.4f}, p-value: {p_value:.4f}\")\n",
                "    return p_value < 0.05  # Si es menor a 0.05, la serie es estacionaria\n",
                "\n",
                "def kpss_test(series):\n",
                "    result = kpss(series, regression='c')\n",
                "    p_value = result[1]\n",
                "    print(f\"KPSS Statistic: {result[0]:.4f}, p-value: {p_value:.4f}\")\n",
                "    return p_value > 0.05  # Si es mayor a 0.05, la serie es estacionaria\n",
                "\n",
                "def check_stationarity(series):\n",
                "    print('--- Prueba ADF ---')\n",
                "    adf_result = adf_test(series)\n",
                "    print('\\n--- Prueba KPSS ---')\n",
                "    kpss_result = kpss_test(series)\n",
                "\n",
                "    if adf_result and kpss_result:\n",
                "        print('\\nConclusión: La serie es estacionaria.')\n",
                "        return True\n",
                "    else:\n",
                "        print('\\nConclusión: La serie NO es estacionaria.')\n",
                "        return False"
            ]
        },
        {
            "cell_type": "code",
            "execution_count": 7,
            "id": "0047dccd",
            "metadata": {},
            "outputs": [
                {
                    "name": "stdout",
                    "output_type": "stream",
                    "text": [
                        "--- Prueba ADF ---\n",
                        "ADF Statistic: -1.5640, p-value: 0.5017\n",
                        "\n",
                        "--- Prueba KPSS ---\n",
                        "KPSS Statistic: 13.6168, p-value: 0.0100\n",
                        "\n",
                        "Conclusión: La serie NO es estacionaria.\n"
                    ]
                },
                {
                    "data": {
                        "text/plain": [
                            "False"
                        ]
                    },
                    "execution_count": 7,
                    "metadata": {},
                    "output_type": "execute_result"
                }
            ],
            "source": [
                "check_stationarity(df)"
            ]
        },
        {
            "cell_type": "markdown",
            "id": "7295e492",
            "metadata": {},
            "source": [
                "## 4. Auto-diferenciación\n",
                "En esta sección se aplicarán diferenciaciones automáticas hasta lograr que la serie sea estacionaria."
            ]
        },
        {
            "cell_type": "code",
            "execution_count": 8,
            "id": "f355285d",
            "metadata": {},
            "outputs": [],
            "source": [
                "def auto_difference(series, max_diff=5):\n",
                "    diff_count = 0\n",
                "    temp_series = series.copy()\n",
                "\n",
                "    while not check_stationarity(temp_series) and diff_count < max_diff:\n",
                "        temp_series = temp_series.diff().dropna()\n",
                "        diff_count += 1\n",
                "        print(f\"Aplicando diferenciación #{diff_count}\")\n",
                "\n",
                "    print(f\"Número total de diferenciaciones aplicadas: {diff_count}\")\n",
                "    return temp_series, diff_count"
            ]
        },
        {
            "cell_type": "code",
            "execution_count": 9,
            "id": "e6916030",
            "metadata": {},
            "outputs": [
                {
                    "name": "stdout",
                    "output_type": "stream",
                    "text": [
                        "--- Prueba ADF ---\n",
                        "ADF Statistic: -1.5640, p-value: 0.5017\n",
                        "\n",
                        "--- Prueba KPSS ---\n",
                        "KPSS Statistic: 13.6168, p-value: 0.0100\n",
                        "\n",
                        "Conclusión: La serie NO es estacionaria.\n",
                        "Aplicando diferenciación #1\n",
                        "--- Prueba ADF ---\n",
                        "ADF Statistic: -14.1279, p-value: 0.0000\n",
                        "\n",
                        "--- Prueba KPSS ---\n",
                        "KPSS Statistic: 0.0671, p-value: 0.1000\n",
                        "\n",
                        "Conclusión: La serie es estacionaria.\n",
                        "Número total de diferenciaciones aplicadas: 1\n"
                    ]
                }
            ],
            "source": [
                "df_diff, count = auto_difference(df)"
            ]
        },
        {
            "cell_type": "markdown",
            "id": "ab34d8b4",
            "metadata": {},
            "source": [
                "## 5. Modelado SARIMA\n",
                "Aquí se construirá y entrenará el modelo SARIMA utilizando la serie estacionaria."
            ]
        },
        {
            "cell_type": "code",
            "execution_count": 7,
            "id": "0d43dc5f",
            "metadata": {},
            "outputs": [],
            "source": [
                "# TODO: Definir y ajustar el modelo SARIMA\n",
                "# model = SARIMAX(serie_estacionaria, order=(p,d,q), seasonal_order=(P,D,Q,m))\n",
                "# results = model.fit()\n",
                "# results.summary()"
            ]
        },
        {
            "cell_type": "markdown",
            "metadata": {},
            "source": [
                "## 6. Conclusiones\n",
                "En esta sección se anotarán las conclusiones del análisis y los resultados del modelo."
            ]
        },
        {
            "cell_type": "markdown",
            "metadata": {},
            "source": [
                "## 7. Sugerencias adicionales\n",
                "Posibles secciones que podrían agregarse:\n",
                "- Validación cruzada de modelos\n",
                "- Evaluación de métricas de error (MAPE, RMSE, etc.)\n",
                "- Visualizaciones avanzadas"
            ]
        }
    ],
    "metadata": {
        "kernelspec": {
            "display_name": "base",
            "language": "python",
            "name": "python3"
        },
        "language_info": {
            "codemirror_mode": {
                "name": "ipython",
                "version": 3
            },
            "file_extension": ".py",
            "mimetype": "text/x-python",
            "name": "python",
            "nbconvert_exporter": "python",
            "pygments_lexer": "ipython3",
            "version": "3.12.4"
        }
    },
    "nbformat": 4,
    "nbformat_minor": 5
}
